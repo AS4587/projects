{
  "nbformat": 4,
  "nbformat_minor": 0,
  "metadata": {
    "colab": {
      "provenance": []
    },
    "kernelspec": {
      "name": "python3",
      "display_name": "Python 3"
    },
    "language_info": {
      "name": "python"
    }
  },
  "cells": [
    {
      "cell_type": "code",
      "execution_count": null,
      "metadata": {
        "colab": {
          "base_uri": "https://localhost:8080/"
        },
        "id": "8bWDo_5ay-eb",
        "outputId": "099d5209-3c00-4512-98aa-a3621f5089ca"
      },
      "outputs": [
        {
          "output_type": "stream",
          "name": "stderr",
          "text": [
            "[nltk_data] Downloading package stopwords to /root/nltk_data...\n",
            "[nltk_data]   Package stopwords is already up-to-date!\n",
            "[nltk_data] Downloading package punkt to /root/nltk_data...\n",
            "[nltk_data]   Package punkt is already up-to-date!\n",
            "[nltk_data] Downloading package wordnet to /root/nltk_data...\n",
            "[nltk_data]   Package wordnet is already up-to-date!\n",
            "[nltk_data] Downloading package omw-1.4 to /root/nltk_data...\n",
            "[nltk_data]   Package omw-1.4 is already up-to-date!\n"
          ]
        },
        {
          "output_type": "execute_result",
          "data": {
            "text/plain": [
              "True"
            ]
          },
          "metadata": {},
          "execution_count": 108
        }
      ],
      "source": [
        "from numpy.random import seed\n",
        "seed(1914)\n",
        "import tensorflow\n",
        "tensorflow.random.set_seed(1918)\n",
        "\n",
        "import numpy as np # linear algebra\n",
        "import pandas as pd # data processing\n",
        "\n",
        "import os\n",
        "from sklearn.utils import compute_class_weight\n",
        "import nltk\n",
        "import re\n",
        "from sklearn.preprocessing import LabelEncoder\n",
        "from tensorflow.keras import  utils\n",
        "from nltk.tokenize import word_tokenize  \n",
        "from nltk.corpus import stopwords\n",
        "from nltk.stem import WordNetLemmatizer\n",
        "from nltk.stem.porter import *\n",
        "from nltk.tokenize import RegexpTokenizer\n",
        "from tensorflow.keras.preprocessing.text import Tokenizer\n",
        "import matplotlib.pyplot as plt\n",
        "from sklearn.preprocessing import OneHotEncoder\n",
        "from keras.preprocessing.text import Tokenizer\n",
        "from tensorflow.keras.preprocessing.sequence import pad_sequences\n",
        "from tensorflow.keras import  utils\n",
        "from tensorflow.keras.models import Sequential\n",
        "from tensorflow.keras.layers import Dense, Embedding, MaxPool1D, Conv1D, GlobalMaxPooling1D, Dropout, LSTM, GRU, Bidirectional, Dropout, MaxPooling1D, Input, Lambda\n",
        "from tensorflow.keras.callbacks import ModelCheckpoint\n",
        "from tensorflow.keras import regularizers\n",
        "\n",
        "stemmer = PorterStemmer()\n",
        "\n",
        "nltk.download('stopwords')\n",
        "nltk.download('punkt')\n",
        "nltk.download('wordnet')\n",
        "nltk.download('omw-1.4')"
      ]
    },
    {
      "cell_type": "code",
      "source": [
        "df_test = pd.read_csv('test.csv')\n",
        "df_train = pd.read_csv('train.csv')\n",
        "sample_submission = pd.read_csv('sample_submission.csv')"
      ],
      "metadata": {
        "id": "Y-OFLSAfFTfw"
      },
      "execution_count": null,
      "outputs": []
    },
    {
      "cell_type": "code",
      "source": [
        "df_train.isna().sum()"
      ],
      "metadata": {
        "colab": {
          "base_uri": "https://localhost:8080/"
        },
        "id": "Qi0NwltRzczq",
        "outputId": "7d50b574-acdd-46ab-c194-fb83487fae75"
      },
      "execution_count": null,
      "outputs": [
        {
          "output_type": "execute_result",
          "data": {
            "text/plain": [
              "Unnamed: 0    1\n",
              "Text          1\n",
              "Sentiment     4\n",
              "dtype: int64"
            ]
          },
          "metadata": {},
          "execution_count": 112
        }
      ]
    },
    {
      "cell_type": "code",
      "source": [
        "df_test.isna().sum()"
      ],
      "metadata": {
        "colab": {
          "base_uri": "https://localhost:8080/"
        },
        "id": "mCzQ6g4ozvzv",
        "outputId": "3c7c73e4-949c-4479-8bb6-c3c7acd04a6b"
      },
      "execution_count": null,
      "outputs": [
        {
          "output_type": "execute_result",
          "data": {
            "text/plain": [
              "id      0\n",
              "Text    0\n",
              "dtype: int64"
            ]
          },
          "metadata": {},
          "execution_count": 113
        }
      ]
    },
    {
      "cell_type": "code",
      "source": [
        "df_train.head()"
      ],
      "metadata": {
        "colab": {
          "base_uri": "https://localhost:8080/",
          "height": 206
        },
        "id": "wUxywowl1OwI",
        "outputId": "6bb25297-11e0-417a-a635-068ee7bd585a"
      },
      "execution_count": null,
      "outputs": [
        {
          "output_type": "execute_result",
          "data": {
            "text/plain": [
              "  Unnamed: 0                                               Text  \\\n",
              "0          0  @MeNyrbie @Phil_Gahan @Chrisitv https://t.co/i...   \n",
              "1          1  advice Talk to your neighbours family to excha...   \n",
              "2          2  Coronavirus Australia: Woolworths to give elde...   \n",
              "3          3  My food stock is not the only one which is emp...   \n",
              "4          4  Me, ready to go at supermarket during the #COV...   \n",
              "\n",
              "            Sentiment  \n",
              "0             Neutral  \n",
              "1            Positive  \n",
              "2            Positive  \n",
              "3            Positive  \n",
              "4  Extremely Negative  "
            ],
            "text/html": [
              "\n",
              "  <div id=\"df-b1ba5a41-fd9e-40da-a49b-8f59a35fcce9\">\n",
              "    <div class=\"colab-df-container\">\n",
              "      <div>\n",
              "<style scoped>\n",
              "    .dataframe tbody tr th:only-of-type {\n",
              "        vertical-align: middle;\n",
              "    }\n",
              "\n",
              "    .dataframe tbody tr th {\n",
              "        vertical-align: top;\n",
              "    }\n",
              "\n",
              "    .dataframe thead th {\n",
              "        text-align: right;\n",
              "    }\n",
              "</style>\n",
              "<table border=\"1\" class=\"dataframe\">\n",
              "  <thead>\n",
              "    <tr style=\"text-align: right;\">\n",
              "      <th></th>\n",
              "      <th>Unnamed: 0</th>\n",
              "      <th>Text</th>\n",
              "      <th>Sentiment</th>\n",
              "    </tr>\n",
              "  </thead>\n",
              "  <tbody>\n",
              "    <tr>\n",
              "      <th>0</th>\n",
              "      <td>0</td>\n",
              "      <td>@MeNyrbie @Phil_Gahan @Chrisitv https://t.co/i...</td>\n",
              "      <td>Neutral</td>\n",
              "    </tr>\n",
              "    <tr>\n",
              "      <th>1</th>\n",
              "      <td>1</td>\n",
              "      <td>advice Talk to your neighbours family to excha...</td>\n",
              "      <td>Positive</td>\n",
              "    </tr>\n",
              "    <tr>\n",
              "      <th>2</th>\n",
              "      <td>2</td>\n",
              "      <td>Coronavirus Australia: Woolworths to give elde...</td>\n",
              "      <td>Positive</td>\n",
              "    </tr>\n",
              "    <tr>\n",
              "      <th>3</th>\n",
              "      <td>3</td>\n",
              "      <td>My food stock is not the only one which is emp...</td>\n",
              "      <td>Positive</td>\n",
              "    </tr>\n",
              "    <tr>\n",
              "      <th>4</th>\n",
              "      <td>4</td>\n",
              "      <td>Me, ready to go at supermarket during the #COV...</td>\n",
              "      <td>Extremely Negative</td>\n",
              "    </tr>\n",
              "  </tbody>\n",
              "</table>\n",
              "</div>\n",
              "      <button class=\"colab-df-convert\" onclick=\"convertToInteractive('df-b1ba5a41-fd9e-40da-a49b-8f59a35fcce9')\"\n",
              "              title=\"Convert this dataframe to an interactive table.\"\n",
              "              style=\"display:none;\">\n",
              "        \n",
              "  <svg xmlns=\"http://www.w3.org/2000/svg\" height=\"24px\"viewBox=\"0 0 24 24\"\n",
              "       width=\"24px\">\n",
              "    <path d=\"M0 0h24v24H0V0z\" fill=\"none\"/>\n",
              "    <path d=\"M18.56 5.44l.94 2.06.94-2.06 2.06-.94-2.06-.94-.94-2.06-.94 2.06-2.06.94zm-11 1L8.5 8.5l.94-2.06 2.06-.94-2.06-.94L8.5 2.5l-.94 2.06-2.06.94zm10 10l.94 2.06.94-2.06 2.06-.94-2.06-.94-.94-2.06-.94 2.06-2.06.94z\"/><path d=\"M17.41 7.96l-1.37-1.37c-.4-.4-.92-.59-1.43-.59-.52 0-1.04.2-1.43.59L10.3 9.45l-7.72 7.72c-.78.78-.78 2.05 0 2.83L4 21.41c.39.39.9.59 1.41.59.51 0 1.02-.2 1.41-.59l7.78-7.78 2.81-2.81c.8-.78.8-2.07 0-2.86zM5.41 20L4 18.59l7.72-7.72 1.47 1.35L5.41 20z\"/>\n",
              "  </svg>\n",
              "      </button>\n",
              "      \n",
              "  <style>\n",
              "    .colab-df-container {\n",
              "      display:flex;\n",
              "      flex-wrap:wrap;\n",
              "      gap: 12px;\n",
              "    }\n",
              "\n",
              "    .colab-df-convert {\n",
              "      background-color: #E8F0FE;\n",
              "      border: none;\n",
              "      border-radius: 50%;\n",
              "      cursor: pointer;\n",
              "      display: none;\n",
              "      fill: #1967D2;\n",
              "      height: 32px;\n",
              "      padding: 0 0 0 0;\n",
              "      width: 32px;\n",
              "    }\n",
              "\n",
              "    .colab-df-convert:hover {\n",
              "      background-color: #E2EBFA;\n",
              "      box-shadow: 0px 1px 2px rgba(60, 64, 67, 0.3), 0px 1px 3px 1px rgba(60, 64, 67, 0.15);\n",
              "      fill: #174EA6;\n",
              "    }\n",
              "\n",
              "    [theme=dark] .colab-df-convert {\n",
              "      background-color: #3B4455;\n",
              "      fill: #D2E3FC;\n",
              "    }\n",
              "\n",
              "    [theme=dark] .colab-df-convert:hover {\n",
              "      background-color: #434B5C;\n",
              "      box-shadow: 0px 1px 3px 1px rgba(0, 0, 0, 0.15);\n",
              "      filter: drop-shadow(0px 1px 2px rgba(0, 0, 0, 0.3));\n",
              "      fill: #FFFFFF;\n",
              "    }\n",
              "  </style>\n",
              "\n",
              "      <script>\n",
              "        const buttonEl =\n",
              "          document.querySelector('#df-b1ba5a41-fd9e-40da-a49b-8f59a35fcce9 button.colab-df-convert');\n",
              "        buttonEl.style.display =\n",
              "          google.colab.kernel.accessAllowed ? 'block' : 'none';\n",
              "\n",
              "        async function convertToInteractive(key) {\n",
              "          const element = document.querySelector('#df-b1ba5a41-fd9e-40da-a49b-8f59a35fcce9');\n",
              "          const dataTable =\n",
              "            await google.colab.kernel.invokeFunction('convertToInteractive',\n",
              "                                                     [key], {});\n",
              "          if (!dataTable) return;\n",
              "\n",
              "          const docLinkHtml = 'Like what you see? Visit the ' +\n",
              "            '<a target=\"_blank\" href=https://colab.research.google.com/notebooks/data_table.ipynb>data table notebook</a>'\n",
              "            + ' to learn more about interactive tables.';\n",
              "          element.innerHTML = '';\n",
              "          dataTable['output_type'] = 'display_data';\n",
              "          await google.colab.output.renderOutput(dataTable, element);\n",
              "          const docLink = document.createElement('div');\n",
              "          docLink.innerHTML = docLinkHtml;\n",
              "          element.appendChild(docLink);\n",
              "        }\n",
              "      </script>\n",
              "    </div>\n",
              "  </div>\n",
              "  "
            ]
          },
          "metadata": {},
          "execution_count": 114
        }
      ]
    },
    {
      "cell_type": "code",
      "source": [
        "df_train['Sentiment'].unique()"
      ],
      "metadata": {
        "colab": {
          "base_uri": "https://localhost:8080/"
        },
        "id": "vjnaEged6yi2",
        "outputId": "37b1e438-ee40-4fb5-96de-89b0f6f3b648"
      },
      "execution_count": null,
      "outputs": [
        {
          "output_type": "execute_result",
          "data": {
            "text/plain": [
              "array(['Neutral', 'Positive', 'Extremely Negative', 'Negative',\n",
              "       'Extremely Positive', nan], dtype=object)"
            ]
          },
          "metadata": {},
          "execution_count": 115
        }
      ]
    },
    {
      "cell_type": "code",
      "source": [
        "df_train.info()"
      ],
      "metadata": {
        "colab": {
          "base_uri": "https://localhost:8080/"
        },
        "id": "7su8hbBr_ILy",
        "outputId": "43b46afa-3284-46ea-b37a-2220548287a6"
      },
      "execution_count": null,
      "outputs": [
        {
          "output_type": "stream",
          "name": "stdout",
          "text": [
            "<class 'pandas.core.frame.DataFrame'>\n",
            "RangeIndex: 41159 entries, 0 to 41158\n",
            "Data columns (total 3 columns):\n",
            " #   Column      Non-Null Count  Dtype \n",
            "---  ------      --------------  ----- \n",
            " 0   Unnamed: 0  41158 non-null  object\n",
            " 1   Text        41158 non-null  object\n",
            " 2   Sentiment   41155 non-null  object\n",
            "dtypes: object(3)\n",
            "memory usage: 964.8+ KB\n"
          ]
        }
      ]
    },
    {
      "cell_type": "markdown",
      "source": [
        "Prepearing data:\n",
        "\n",
        "*   drop missing values\n",
        "*   delete STOP WORDS, lemmitization, stemming\n",
        "*   convert to numeric\n",
        "\n",
        "\n",
        "\n",
        "\n"
      ],
      "metadata": {
        "id": "_6QYIcIwFQft"
      }
    },
    {
      "cell_type": "code",
      "source": [
        "# drop NaN\n",
        "df_train.dropna(inplace=True)\n",
        "df_train.reset_index(inplace=True)\n",
        "df_train.info()"
      ],
      "metadata": {
        "colab": {
          "base_uri": "https://localhost:8080/"
        },
        "id": "DWuiTCzNL75-",
        "outputId": "6dcfe5d9-797c-4f59-8f5f-9dd0186fedd1"
      },
      "execution_count": null,
      "outputs": [
        {
          "output_type": "stream",
          "name": "stdout",
          "text": [
            "<class 'pandas.core.frame.DataFrame'>\n",
            "RangeIndex: 41155 entries, 0 to 41154\n",
            "Data columns (total 4 columns):\n",
            " #   Column      Non-Null Count  Dtype \n",
            "---  ------      --------------  ----- \n",
            " 0   index       41155 non-null  int64 \n",
            " 1   Unnamed: 0  41155 non-null  object\n",
            " 2   Text        41155 non-null  object\n",
            " 3   Sentiment   41155 non-null  object\n",
            "dtypes: int64(1), object(3)\n",
            "memory usage: 1.3+ MB\n"
          ]
        }
      ]
    },
    {
      "cell_type": "code",
      "source": [
        "# lemitization, stemming, deleting stop words\n",
        "#url, lower,punct,stop,stem,lem\n",
        "lemmatizer = WordNetLemmatizer()\n",
        "tokenizer = RegexpTokenizer(r'\\w+')\n",
        "\n",
        "def normalization(corpus):\n",
        "\n",
        "  for i in range(len(corpus)): \n",
        "    # clean from url, punct., and lower all\n",
        "    clean_text = re.sub(r\"http\\S+\", \"\", corpus[i]) #url\n",
        "    clean_text = re.sub(r'[^\\w\\s]', '', clean_text) #punct.\n",
        "    clean_text = clean_text.lower() # lower\n",
        "\n",
        "    tokens = word_tokenize(clean_text) # break line to words\n",
        "\n",
        "    #Stop_words erase\n",
        "    stop_words_cleaned = []  \n",
        "    nltk_stop_words = set(stopwords.words(\"english\"))\n",
        "    for word in tokens:  \n",
        "      if word not in nltk_stop_words:  \n",
        "        stop_words_cleaned.append(word)\n",
        "  \n",
        "    #Stemming\n",
        "    stemed_tokens = []\n",
        "    for word in stop_words_cleaned:\n",
        "      stemed_tokens.append(stemmer.stem(word))\n",
        "\n",
        "    #Lemmatization\n",
        "    lemmitized_text = []\n",
        "    for word in stemed_tokens:\n",
        "      lemmitized_text.append(lemmatizer.lemmatize(word)) \n",
        "\n",
        "    #return\n",
        "    corpus[i] = lemmitized_text\n",
        "      \n",
        "normalization(df_train['Text'])\n",
        "normalization(df_test['Text'])"
      ],
      "metadata": {
        "id": "qD9LVji__pdu",
        "colab": {
          "base_uri": "https://localhost:8080/"
        },
        "outputId": "47dec893-1299-4e03-951b-94e5bb962419"
      },
      "execution_count": null,
      "outputs": [
        {
          "output_type": "stream",
          "name": "stderr",
          "text": [
            "/usr/local/lib/python3.7/dist-packages/ipykernel_launcher.py:34: SettingWithCopyWarning: \n",
            "A value is trying to be set on a copy of a slice from a DataFrame\n",
            "\n",
            "See the caveats in the documentation: https://pandas.pydata.org/pandas-docs/stable/user_guide/indexing.html#returning-a-view-versus-a-copy\n"
          ]
        }
      ]
    },
    {
      "cell_type": "code",
      "source": [
        "df_train.head()"
      ],
      "metadata": {
        "id": "7GnatBapOVYC",
        "colab": {
          "base_uri": "https://localhost:8080/",
          "height": 206
        },
        "outputId": "514d1052-1089-4724-9ff9-9762343342cd"
      },
      "execution_count": null,
      "outputs": [
        {
          "output_type": "execute_result",
          "data": {
            "text/plain": [
              "   index Unnamed: 0                                               Text  \\\n",
              "0      0          0                    [menyrbi, phil_gahan, chrisitv]   \n",
              "1      1          1  [advic, talk, neighbour, famili, exchang, phon...   \n",
              "2      2          2  [coronaviru, australia, woolworth, give, elder...   \n",
              "3      3          3  [food, stock, one, empti, plea, dont, panic, e...   \n",
              "4      4          4  [readi, go, supermarket, covid19, outbreak, im...   \n",
              "\n",
              "            Sentiment  \n",
              "0             Neutral  \n",
              "1            Positive  \n",
              "2            Positive  \n",
              "3            Positive  \n",
              "4  Extremely Negative  "
            ],
            "text/html": [
              "\n",
              "  <div id=\"df-13f827bc-42aa-4c76-a1a9-ef7e3fd6a637\">\n",
              "    <div class=\"colab-df-container\">\n",
              "      <div>\n",
              "<style scoped>\n",
              "    .dataframe tbody tr th:only-of-type {\n",
              "        vertical-align: middle;\n",
              "    }\n",
              "\n",
              "    .dataframe tbody tr th {\n",
              "        vertical-align: top;\n",
              "    }\n",
              "\n",
              "    .dataframe thead th {\n",
              "        text-align: right;\n",
              "    }\n",
              "</style>\n",
              "<table border=\"1\" class=\"dataframe\">\n",
              "  <thead>\n",
              "    <tr style=\"text-align: right;\">\n",
              "      <th></th>\n",
              "      <th>index</th>\n",
              "      <th>Unnamed: 0</th>\n",
              "      <th>Text</th>\n",
              "      <th>Sentiment</th>\n",
              "    </tr>\n",
              "  </thead>\n",
              "  <tbody>\n",
              "    <tr>\n",
              "      <th>0</th>\n",
              "      <td>0</td>\n",
              "      <td>0</td>\n",
              "      <td>[menyrbi, phil_gahan, chrisitv]</td>\n",
              "      <td>Neutral</td>\n",
              "    </tr>\n",
              "    <tr>\n",
              "      <th>1</th>\n",
              "      <td>1</td>\n",
              "      <td>1</td>\n",
              "      <td>[advic, talk, neighbour, famili, exchang, phon...</td>\n",
              "      <td>Positive</td>\n",
              "    </tr>\n",
              "    <tr>\n",
              "      <th>2</th>\n",
              "      <td>2</td>\n",
              "      <td>2</td>\n",
              "      <td>[coronaviru, australia, woolworth, give, elder...</td>\n",
              "      <td>Positive</td>\n",
              "    </tr>\n",
              "    <tr>\n",
              "      <th>3</th>\n",
              "      <td>3</td>\n",
              "      <td>3</td>\n",
              "      <td>[food, stock, one, empti, plea, dont, panic, e...</td>\n",
              "      <td>Positive</td>\n",
              "    </tr>\n",
              "    <tr>\n",
              "      <th>4</th>\n",
              "      <td>4</td>\n",
              "      <td>4</td>\n",
              "      <td>[readi, go, supermarket, covid19, outbreak, im...</td>\n",
              "      <td>Extremely Negative</td>\n",
              "    </tr>\n",
              "  </tbody>\n",
              "</table>\n",
              "</div>\n",
              "      <button class=\"colab-df-convert\" onclick=\"convertToInteractive('df-13f827bc-42aa-4c76-a1a9-ef7e3fd6a637')\"\n",
              "              title=\"Convert this dataframe to an interactive table.\"\n",
              "              style=\"display:none;\">\n",
              "        \n",
              "  <svg xmlns=\"http://www.w3.org/2000/svg\" height=\"24px\"viewBox=\"0 0 24 24\"\n",
              "       width=\"24px\">\n",
              "    <path d=\"M0 0h24v24H0V0z\" fill=\"none\"/>\n",
              "    <path d=\"M18.56 5.44l.94 2.06.94-2.06 2.06-.94-2.06-.94-.94-2.06-.94 2.06-2.06.94zm-11 1L8.5 8.5l.94-2.06 2.06-.94-2.06-.94L8.5 2.5l-.94 2.06-2.06.94zm10 10l.94 2.06.94-2.06 2.06-.94-2.06-.94-.94-2.06-.94 2.06-2.06.94z\"/><path d=\"M17.41 7.96l-1.37-1.37c-.4-.4-.92-.59-1.43-.59-.52 0-1.04.2-1.43.59L10.3 9.45l-7.72 7.72c-.78.78-.78 2.05 0 2.83L4 21.41c.39.39.9.59 1.41.59.51 0 1.02-.2 1.41-.59l7.78-7.78 2.81-2.81c.8-.78.8-2.07 0-2.86zM5.41 20L4 18.59l7.72-7.72 1.47 1.35L5.41 20z\"/>\n",
              "  </svg>\n",
              "      </button>\n",
              "      \n",
              "  <style>\n",
              "    .colab-df-container {\n",
              "      display:flex;\n",
              "      flex-wrap:wrap;\n",
              "      gap: 12px;\n",
              "    }\n",
              "\n",
              "    .colab-df-convert {\n",
              "      background-color: #E8F0FE;\n",
              "      border: none;\n",
              "      border-radius: 50%;\n",
              "      cursor: pointer;\n",
              "      display: none;\n",
              "      fill: #1967D2;\n",
              "      height: 32px;\n",
              "      padding: 0 0 0 0;\n",
              "      width: 32px;\n",
              "    }\n",
              "\n",
              "    .colab-df-convert:hover {\n",
              "      background-color: #E2EBFA;\n",
              "      box-shadow: 0px 1px 2px rgba(60, 64, 67, 0.3), 0px 1px 3px 1px rgba(60, 64, 67, 0.15);\n",
              "      fill: #174EA6;\n",
              "    }\n",
              "\n",
              "    [theme=dark] .colab-df-convert {\n",
              "      background-color: #3B4455;\n",
              "      fill: #D2E3FC;\n",
              "    }\n",
              "\n",
              "    [theme=dark] .colab-df-convert:hover {\n",
              "      background-color: #434B5C;\n",
              "      box-shadow: 0px 1px 3px 1px rgba(0, 0, 0, 0.15);\n",
              "      filter: drop-shadow(0px 1px 2px rgba(0, 0, 0, 0.3));\n",
              "      fill: #FFFFFF;\n",
              "    }\n",
              "  </style>\n",
              "\n",
              "      <script>\n",
              "        const buttonEl =\n",
              "          document.querySelector('#df-13f827bc-42aa-4c76-a1a9-ef7e3fd6a637 button.colab-df-convert');\n",
              "        buttonEl.style.display =\n",
              "          google.colab.kernel.accessAllowed ? 'block' : 'none';\n",
              "\n",
              "        async function convertToInteractive(key) {\n",
              "          const element = document.querySelector('#df-13f827bc-42aa-4c76-a1a9-ef7e3fd6a637');\n",
              "          const dataTable =\n",
              "            await google.colab.kernel.invokeFunction('convertToInteractive',\n",
              "                                                     [key], {});\n",
              "          if (!dataTable) return;\n",
              "\n",
              "          const docLinkHtml = 'Like what you see? Visit the ' +\n",
              "            '<a target=\"_blank\" href=https://colab.research.google.com/notebooks/data_table.ipynb>data table notebook</a>'\n",
              "            + ' to learn more about interactive tables.';\n",
              "          element.innerHTML = '';\n",
              "          dataTable['output_type'] = 'display_data';\n",
              "          await google.colab.output.renderOutput(dataTable, element);\n",
              "          const docLink = document.createElement('div');\n",
              "          docLink.innerHTML = docLinkHtml;\n",
              "          element.appendChild(docLink);\n",
              "        }\n",
              "      </script>\n",
              "    </div>\n",
              "  </div>\n",
              "  "
            ]
          },
          "metadata": {},
          "execution_count": 119
        }
      ]
    },
    {
      "cell_type": "code",
      "source": [
        "df_test.head()"
      ],
      "metadata": {
        "id": "fWTG2FHB1slJ",
        "colab": {
          "base_uri": "https://localhost:8080/",
          "height": 206
        },
        "outputId": "6bd492eb-ad55-4090-d06e-9fcc2c3936d8"
      },
      "execution_count": null,
      "outputs": [
        {
          "output_type": "execute_result",
          "data": {
            "text/plain": [
              "                                     id  \\\n",
              "0  787bc85b-20d4-46d8-84a0-562a2527f684   \n",
              "1  17e934cd-ba94-4d4f-9ac0-ead202abe241   \n",
              "2  5914534b-2b0f-4de8-bb8a-e25587697e0d   \n",
              "3  cdf06cfe-29ae-48ee-ac6d-be448103ba45   \n",
              "4  aff63979-0256-4fb9-a2d9-86a3d3ca5470   \n",
              "\n",
              "                                                Text  \n",
              "0  [trend, new, yorker, encount, empti, supermark...  \n",
              "1  [couldnt, find, hand, sanit, fred, meyer, turn...  \n",
              "2             [find, protect, love, one, coronaviru]  \n",
              "3  [panic, buy, hit, newyork, citi, anxiou, shopp...  \n",
              "4  [toiletpap, dunnypap, coronaviru, coronavirusa...  "
            ],
            "text/html": [
              "\n",
              "  <div id=\"df-83485741-98bb-4359-b24a-459c20e059f3\">\n",
              "    <div class=\"colab-df-container\">\n",
              "      <div>\n",
              "<style scoped>\n",
              "    .dataframe tbody tr th:only-of-type {\n",
              "        vertical-align: middle;\n",
              "    }\n",
              "\n",
              "    .dataframe tbody tr th {\n",
              "        vertical-align: top;\n",
              "    }\n",
              "\n",
              "    .dataframe thead th {\n",
              "        text-align: right;\n",
              "    }\n",
              "</style>\n",
              "<table border=\"1\" class=\"dataframe\">\n",
              "  <thead>\n",
              "    <tr style=\"text-align: right;\">\n",
              "      <th></th>\n",
              "      <th>id</th>\n",
              "      <th>Text</th>\n",
              "    </tr>\n",
              "  </thead>\n",
              "  <tbody>\n",
              "    <tr>\n",
              "      <th>0</th>\n",
              "      <td>787bc85b-20d4-46d8-84a0-562a2527f684</td>\n",
              "      <td>[trend, new, yorker, encount, empti, supermark...</td>\n",
              "    </tr>\n",
              "    <tr>\n",
              "      <th>1</th>\n",
              "      <td>17e934cd-ba94-4d4f-9ac0-ead202abe241</td>\n",
              "      <td>[couldnt, find, hand, sanit, fred, meyer, turn...</td>\n",
              "    </tr>\n",
              "    <tr>\n",
              "      <th>2</th>\n",
              "      <td>5914534b-2b0f-4de8-bb8a-e25587697e0d</td>\n",
              "      <td>[find, protect, love, one, coronaviru]</td>\n",
              "    </tr>\n",
              "    <tr>\n",
              "      <th>3</th>\n",
              "      <td>cdf06cfe-29ae-48ee-ac6d-be448103ba45</td>\n",
              "      <td>[panic, buy, hit, newyork, citi, anxiou, shopp...</td>\n",
              "    </tr>\n",
              "    <tr>\n",
              "      <th>4</th>\n",
              "      <td>aff63979-0256-4fb9-a2d9-86a3d3ca5470</td>\n",
              "      <td>[toiletpap, dunnypap, coronaviru, coronavirusa...</td>\n",
              "    </tr>\n",
              "  </tbody>\n",
              "</table>\n",
              "</div>\n",
              "      <button class=\"colab-df-convert\" onclick=\"convertToInteractive('df-83485741-98bb-4359-b24a-459c20e059f3')\"\n",
              "              title=\"Convert this dataframe to an interactive table.\"\n",
              "              style=\"display:none;\">\n",
              "        \n",
              "  <svg xmlns=\"http://www.w3.org/2000/svg\" height=\"24px\"viewBox=\"0 0 24 24\"\n",
              "       width=\"24px\">\n",
              "    <path d=\"M0 0h24v24H0V0z\" fill=\"none\"/>\n",
              "    <path d=\"M18.56 5.44l.94 2.06.94-2.06 2.06-.94-2.06-.94-.94-2.06-.94 2.06-2.06.94zm-11 1L8.5 8.5l.94-2.06 2.06-.94-2.06-.94L8.5 2.5l-.94 2.06-2.06.94zm10 10l.94 2.06.94-2.06 2.06-.94-2.06-.94-.94-2.06-.94 2.06-2.06.94z\"/><path d=\"M17.41 7.96l-1.37-1.37c-.4-.4-.92-.59-1.43-.59-.52 0-1.04.2-1.43.59L10.3 9.45l-7.72 7.72c-.78.78-.78 2.05 0 2.83L4 21.41c.39.39.9.59 1.41.59.51 0 1.02-.2 1.41-.59l7.78-7.78 2.81-2.81c.8-.78.8-2.07 0-2.86zM5.41 20L4 18.59l7.72-7.72 1.47 1.35L5.41 20z\"/>\n",
              "  </svg>\n",
              "      </button>\n",
              "      \n",
              "  <style>\n",
              "    .colab-df-container {\n",
              "      display:flex;\n",
              "      flex-wrap:wrap;\n",
              "      gap: 12px;\n",
              "    }\n",
              "\n",
              "    .colab-df-convert {\n",
              "      background-color: #E8F0FE;\n",
              "      border: none;\n",
              "      border-radius: 50%;\n",
              "      cursor: pointer;\n",
              "      display: none;\n",
              "      fill: #1967D2;\n",
              "      height: 32px;\n",
              "      padding: 0 0 0 0;\n",
              "      width: 32px;\n",
              "    }\n",
              "\n",
              "    .colab-df-convert:hover {\n",
              "      background-color: #E2EBFA;\n",
              "      box-shadow: 0px 1px 2px rgba(60, 64, 67, 0.3), 0px 1px 3px 1px rgba(60, 64, 67, 0.15);\n",
              "      fill: #174EA6;\n",
              "    }\n",
              "\n",
              "    [theme=dark] .colab-df-convert {\n",
              "      background-color: #3B4455;\n",
              "      fill: #D2E3FC;\n",
              "    }\n",
              "\n",
              "    [theme=dark] .colab-df-convert:hover {\n",
              "      background-color: #434B5C;\n",
              "      box-shadow: 0px 1px 3px 1px rgba(0, 0, 0, 0.15);\n",
              "      filter: drop-shadow(0px 1px 2px rgba(0, 0, 0, 0.3));\n",
              "      fill: #FFFFFF;\n",
              "    }\n",
              "  </style>\n",
              "\n",
              "      <script>\n",
              "        const buttonEl =\n",
              "          document.querySelector('#df-83485741-98bb-4359-b24a-459c20e059f3 button.colab-df-convert');\n",
              "        buttonEl.style.display =\n",
              "          google.colab.kernel.accessAllowed ? 'block' : 'none';\n",
              "\n",
              "        async function convertToInteractive(key) {\n",
              "          const element = document.querySelector('#df-83485741-98bb-4359-b24a-459c20e059f3');\n",
              "          const dataTable =\n",
              "            await google.colab.kernel.invokeFunction('convertToInteractive',\n",
              "                                                     [key], {});\n",
              "          if (!dataTable) return;\n",
              "\n",
              "          const docLinkHtml = 'Like what you see? Visit the ' +\n",
              "            '<a target=\"_blank\" href=https://colab.research.google.com/notebooks/data_table.ipynb>data table notebook</a>'\n",
              "            + ' to learn more about interactive tables.';\n",
              "          element.innerHTML = '';\n",
              "          dataTable['output_type'] = 'display_data';\n",
              "          await google.colab.output.renderOutput(dataTable, element);\n",
              "          const docLink = document.createElement('div');\n",
              "          docLink.innerHTML = docLinkHtml;\n",
              "          element.appendChild(docLink);\n",
              "        }\n",
              "      </script>\n",
              "    </div>\n",
              "  </div>\n",
              "  "
            ]
          },
          "metadata": {},
          "execution_count": 120
        }
      ]
    },
    {
      "cell_type": "code",
      "source": [
        "# histogram of sentiment spreading\n",
        "plt.hist(df_train['Sentiment'])\n",
        "plt.show() "
      ],
      "metadata": {
        "id": "3RuBHJr0POmU",
        "colab": {
          "base_uri": "https://localhost:8080/",
          "height": 265
        },
        "outputId": "9a926982-3be8-4cad-fe0d-b0e5638e36de"
      },
      "execution_count": null,
      "outputs": [
        {
          "output_type": "display_data",
          "data": {
            "text/plain": [
              "<Figure size 432x288 with 1 Axes>"
            ],
            "image/png": "[encoded data removed]"
          },
          "metadata": {
            "needs_background": "light"
          }
        }
      ]
    },
    {
      "cell_type": "markdown",
      "source": [
        "look's like class disproportion"
      ],
      "metadata": {
        "id": "Y6A1-Vnzm1uI"
      }
    },
    {
      "cell_type": "code",
      "source": [
        "# tokenization\n",
        "tokenizer = Tokenizer()\n",
        "tokenizer.fit_on_texts(df_train['Text'].values)\n",
        "\n",
        "# convert texts to numeric with one lenght\n",
        "train_tokens = tokenizer.texts_to_sequences(df_train['Text'].values)\n",
        "text_len=[]\n",
        "for i in range(len(train_tokens)):\n",
        "  text_len.append(len(train_tokens[i]))\n",
        "max_text_len = max(text_len)\n",
        "x_train = pad_sequences(train_tokens, maxlen= max_text_len)\n",
        "\n",
        "test_tokens = tokenizer.texts_to_sequences(df_test['Text'].values)\n",
        "x_test = pad_sequences(test_tokens, maxlen= max_text_len)\n",
        "\n",
        "# encode sentiments\n",
        "ohe = OneHotEncoder()\n",
        "y_train = ohe.fit_transform(df_train[['Sentiment']].values)\n",
        "y_train = y_train.toarray()"
      ],
      "metadata": {
        "id": "us0DhKEbSGBW"
      },
      "execution_count": null,
      "outputs": []
    },
    {
      "cell_type": "markdown",
      "source": [
        "Finally models!\n",
        "\n",
        "Gonna try three different:\n",
        "*   CNN\n",
        "*   LSTM\n",
        "*   GRU\n"
      ],
      "metadata": {
        "id": "rGN6or6aXd6b"
      }
    },
    {
      "cell_type": "code",
      "source": [
        "\n",
        "print(x_train.shape, y_train.shape)"
      ],
      "metadata": {
        "id": "8x94YJZfmfpt",
        "colab": {
          "base_uri": "https://localhost:8080/"
        },
        "outputId": "3b853f9d-2914-4bd5-96b1-f19b68161cc2"
      },
      "execution_count": null,
      "outputs": [
        {
          "output_type": "stream",
          "name": "stdout",
          "text": [
            "(41155, 46) (41155, 5)\n"
          ]
        }
      ]
    },
    {
      "cell_type": "code",
      "source": [
        "# max words count\n",
        "num_words= 100000\n",
        "# Sentient count\n",
        "sentiment_count = 5 \n",
        "# text lenght\n",
        "text_len = len(x_train[0])\n",
        "# compute classes weights\n",
        "y_train_labels = df_train['Sentiment'].values\n",
        "class_weights= compute_class_weight(\n",
        "                                   class_weight = 'balanced',\n",
        "                                   classes = np.unique(y_train_labels),\n",
        "                                   y = y_train_labels)\n",
        "classes = dict(zip(np.unique(y_train_labels), class_weights))\n",
        "class_weights= {i : class_weights[i] for i in range(5)}\n",
        "classes"
      ],
      "metadata": {
        "id": "sQWVwX4aXdSF",
        "colab": {
          "base_uri": "https://localhost:8080/"
        },
        "outputId": "437923fe-2635-4b61-af54-b7f68db3660e"
      },
      "execution_count": null,
      "outputs": [
        {
          "output_type": "execute_result",
          "data": {
            "text/plain": [
              "{'Extremely Negative': 1.50173326035395,\n",
              " 'Extremely Positive': 1.242602657004831,\n",
              " 'Negative': 0.8299889079358677,\n",
              " 'Neutral': 1.0674361302036053,\n",
              " 'Positive': 0.7206268604447558}"
            ]
          },
          "metadata": {},
          "execution_count": 124
        }
      ]
    },
    {
      "cell_type": "code",
      "source": [
        "# CNN\n",
        "model_cnn = Sequential()\n",
        "model_cnn.add(Embedding(num_words, 46, input_length=text_len))\n",
        "model_cnn.add(Conv1D(128, 5, padding='valid', activation='relu'))\n",
        "model_cnn.add(GlobalMaxPooling1D())\n",
        "model_cnn.add(Dense(10, activation='relu'))\n",
        "model_cnn.add(Dropout(0.2))\n",
        "model_cnn.add(Dense(5, activation='softmax'))"
      ],
      "metadata": {
        "id": "qxG7XhroolJR"
      },
      "execution_count": null,
      "outputs": []
    },
    {
      "cell_type": "code",
      "source": [
        "model_cnn.compile(optimizer='rmsprop',\n",
        "                  loss='categorical_crossentropy',\n",
        "                  metrics=['accuracy'])"
      ],
      "metadata": {
        "id": "TuBmXEMhdKJW"
      },
      "execution_count": null,
      "outputs": []
    },
    {
      "cell_type": "code",
      "source": [
        "# print model description\n",
        "model_cnn.summary()"
      ],
      "metadata": {
        "id": "IdTFa23Hj0wj",
        "colab": {
          "base_uri": "https://localhost:8080/"
        },
        "outputId": "9f9ae3bb-239b-4593-9e33-fdecc1f3ce66"
      },
      "execution_count": null,
      "outputs": [
        {
          "output_type": "stream",
          "name": "stdout",
          "text": [
            "Model: \"sequential_10\"\n",
            "_________________________________________________________________\n",
            " Layer (type)                Output Shape              Param #   \n",
            "=================================================================\n",
            " embedding_10 (Embedding)    (None, 46, 46)            4600000   \n",
            "                                                                 \n",
            " conv1d_4 (Conv1D)           (None, 42, 128)           29568     \n",
            "                                                                 \n",
            " global_max_pooling1d_2 (Glo  (None, 128)              0         \n",
            " balMaxPooling1D)                                                \n",
            "                                                                 \n",
            " dense_12 (Dense)            (None, 10)                1290      \n",
            "                                                                 \n",
            " dropout_8 (Dropout)         (None, 10)                0         \n",
            "                                                                 \n",
            " dense_13 (Dense)            (None, 5)                 55        \n",
            "                                                                 \n",
            "=================================================================\n",
            "Total params: 4,630,913\n",
            "Trainable params: 4,630,913\n",
            "Non-trainable params: 0\n",
            "_________________________________________________________________\n"
          ]
        }
      ]
    },
    {
      "cell_type": "code",
      "source": [
        "#save best result\n",
        "model_cnn_save_path = 'best_model_cnn.h5'\n",
        "checkpoint_callback_cnn = ModelCheckpoint(model_cnn_save_path,\n",
        "                                          monitor='val_accuracy',\n",
        "                                          save_best_only=True,\n",
        "                                          verbose=1)"
      ],
      "metadata": {
        "id": "j2alRWz-1eaq"
      },
      "execution_count": null,
      "outputs": []
    },
    {
      "cell_type": "code",
      "source": [
        "history_cnn = model_cnn.fit(x_train,\n",
        "                            y_train,\n",
        "                            epochs=5,\n",
        "                            batch_size=256,\n",
        "                            class_weight=class_weights,\n",
        "                            validation_split=0.2)"
      ],
      "metadata": {
        "id": "cHnW2v2KmGK9",
        "colab": {
          "base_uri": "https://localhost:8080/"
        },
        "outputId": "85a5ef09-16f0-4c5d-c3b7-313c4783811b"
      },
      "execution_count": null,
      "outputs": [
        {
          "output_type": "stream",
          "name": "stdout",
          "text": [
            "Epoch 1/5\n",
            "129/129 [==============================] - 12s 85ms/step - loss: 1.4489 - accuracy: 0.3251 - val_loss: 1.1962 - val_accuracy: 0.5411\n",
            "Epoch 2/5\n",
            "129/129 [==============================] - 13s 99ms/step - loss: 1.0771 - accuracy: 0.5093 - val_loss: 0.9639 - val_accuracy: 0.6107\n",
            "Epoch 3/5\n",
            "129/129 [==============================] - 11s 83ms/step - loss: 0.9227 - accuracy: 0.5983 - val_loss: 0.9016 - val_accuracy: 0.6477\n",
            "Epoch 4/5\n",
            "129/129 [==============================] - 11s 84ms/step - loss: 0.8311 - accuracy: 0.6525 - val_loss: 0.8709 - val_accuracy: 0.6669\n",
            "Epoch 5/5\n",
            "129/129 [==============================] - 11s 84ms/step - loss: 0.7565 - accuracy: 0.6900 - val_loss: 0.8639 - val_accuracy: 0.6625\n"
          ]
        }
      ]
    },
    {
      "cell_type": "code",
      "source": [
        "# plot CNN\n",
        "plt.plot(history_cnn.history['accuracy'],\n",
        "         label='train')\n",
        "plt.plot(history_cnn.history['val_accuracy'],\n",
        "         label='validation')\n",
        "plt.xlabel('epoch')\n",
        "plt.ylabel('correct answers')\n",
        "plt.legend()\n",
        "plt.show()"
      ],
      "metadata": {
        "id": "s4USGzDpoK2Q",
        "colab": {
          "base_uri": "https://localhost:8080/",
          "height": 279
        },
        "outputId": "d7f39d78-21e2-4a60-fe58-64d8addac68b"
      },
      "execution_count": null,
      "outputs": [
        {
          "output_type": "display_data",
          "data": {
            "text/plain": [
              "<Figure size 432x288 with 1 Axes>"
            ],
            "image/png": "[encoded data removed]"
          },
          "metadata": {
            "needs_background": "light"
          }
        }
      ]
    },
    {
      "cell_type": "code",
      "source": [
        "#LSTM\n",
        "model_lstm=Sequential()\n",
        "model_lstm.add(Embedding(num_words,32,input_length=text_len))\n",
        "model_lstm.add(LSTM(150))\n",
        "model_lstm.add(Dropout(0.2))\n",
        "model_lstm.add(Dense(5,activation='softmax'))"
      ],
      "metadata": {
        "id": "JK0cyWwFuWV0"
      },
      "execution_count": null,
      "outputs": []
    },
    {
      "cell_type": "code",
      "source": [
        "model_lstm.compile(optimizer='Adam',\n",
        "                   loss='categorical_crossentropy',\n",
        "                   metrics=['accuracy'])"
      ],
      "metadata": {
        "id": "J5xvwTfKxWqu"
      },
      "execution_count": null,
      "outputs": []
    },
    {
      "cell_type": "code",
      "source": [
        "model_lstm.summary()"
      ],
      "metadata": {
        "id": "nOGg3zaZxpCV",
        "colab": {
          "base_uri": "https://localhost:8080/"
        },
        "outputId": "8c4549e6-0ded-4002-e650-9d8980deea5c"
      },
      "execution_count": null,
      "outputs": [
        {
          "output_type": "stream",
          "name": "stdout",
          "text": [
            "Model: \"sequential_11\"\n",
            "_________________________________________________________________\n",
            " Layer (type)                Output Shape              Param #   \n",
            "=================================================================\n",
            " embedding_11 (Embedding)    (None, 46, 32)            3200000   \n",
            "                                                                 \n",
            " lstm_6 (LSTM)               (None, 150)               109800    \n",
            "                                                                 \n",
            " dropout_9 (Dropout)         (None, 150)               0         \n",
            "                                                                 \n",
            " dense_14 (Dense)            (None, 5)                 755       \n",
            "                                                                 \n",
            "=================================================================\n",
            "Total params: 3,310,555\n",
            "Trainable params: 3,310,555\n",
            "Non-trainable params: 0\n",
            "_________________________________________________________________\n"
          ]
        }
      ]
    },
    {
      "cell_type": "code",
      "source": [
        "history_lstm = model_lstm.fit(x_train,\n",
        "                            y_train,\n",
        "                            epochs=2,\n",
        "                            batch_size=128,\n",
        "                            class_weight=class_weights,\n",
        "                            validation_split=0.2,\n",
        "                            )"
      ],
      "metadata": {
        "id": "7mElaljTxt24",
        "colab": {
          "base_uri": "https://localhost:8080/"
        },
        "outputId": "cf30a99b-79fa-4b43-82a1-90fdb3737fea"
      },
      "execution_count": null,
      "outputs": [
        {
          "output_type": "stream",
          "name": "stdout",
          "text": [
            "Epoch 1/2\n",
            "258/258 [==============================] - 71s 265ms/step - loss: 1.3154 - accuracy: 0.3781 - val_loss: 1.0176 - val_accuracy: 0.5958\n",
            "Epoch 2/2\n",
            "258/258 [==============================] - 65s 254ms/step - loss: 0.7895 - accuracy: 0.6678 - val_loss: 0.8771 - val_accuracy: 0.6630\n"
          ]
        }
      ]
    },
    {
      "cell_type": "code",
      "source": [
        "# plot LSTM\n",
        "plt.plot(history_lstm.history['accuracy'],\n",
        "         label='train')\n",
        "plt.plot(history_lstm.history['val_accuracy'],\n",
        "         label='validation')\n",
        "plt.xlabel('epoch')\n",
        "plt.ylabel('correct answers')\n",
        "plt.legend()\n",
        "plt.show()"
      ],
      "metadata": {
        "id": "vnInPgEQyIML",
        "colab": {
          "base_uri": "https://localhost:8080/",
          "height": 279
        },
        "outputId": "029fc773-7f23-4919-8088-7aea54c28075"
      },
      "execution_count": null,
      "outputs": [
        {
          "output_type": "display_data",
          "data": {
            "text/plain": [
              "<Figure size 432x288 with 1 Axes>"
            ],
            "image/png": "[encoded data removed]"
          },
          "metadata": {
            "needs_background": "light"
          }
        }
      ]
    },
    {
      "cell_type": "code",
      "source": [
        "#GRU\n",
        "model_gru= Sequential()\n",
        "model_gru.add(Embedding(num_words, 46, input_length=text_len))\n",
        "model_gru.add(Conv1D(filters=32, kernel_size=3, padding='same', activation='relu'))\n",
        "model_gru.add(MaxPooling1D(pool_size=2))\n",
        "model_gru.add(GRU(128, dropout=.2, recurrent_dropout=.2))\n",
        "model_gru.add(Dense(5, activation='softmax'))"
      ],
      "metadata": {
        "id": "m14jvAYhzYnU"
      },
      "execution_count": null,
      "outputs": []
    },
    {
      "cell_type": "code",
      "source": [
        "model_gru.compile(optimizer='rmsprop',\n",
        "                   loss='categorical_crossentropy',\n",
        "                   metrics=['accuracy'])"
      ],
      "metadata": {
        "id": "m3Gw8B5o1okU"
      },
      "execution_count": null,
      "outputs": []
    },
    {
      "cell_type": "code",
      "source": [
        "model_gru.summary()"
      ],
      "metadata": {
        "id": "GAo8qopq2GxU",
        "colab": {
          "base_uri": "https://localhost:8080/"
        },
        "outputId": "8b5a46e0-9841-474a-b3b1-07026333207d"
      },
      "execution_count": null,
      "outputs": [
        {
          "output_type": "stream",
          "name": "stdout",
          "text": [
            "Model: \"sequential_12\"\n",
            "_________________________________________________________________\n",
            " Layer (type)                Output Shape              Param #   \n",
            "=================================================================\n",
            " embedding_12 (Embedding)    (None, 46, 46)            4600000   \n",
            "                                                                 \n",
            " conv1d_5 (Conv1D)           (None, 46, 32)            4448      \n",
            "                                                                 \n",
            " max_pooling1d_2 (MaxPooling  (None, 23, 32)           0         \n",
            " 1D)                                                             \n",
            "                                                                 \n",
            " gru_2 (GRU)                 (None, 128)               62208     \n",
            "                                                                 \n",
            " dense_15 (Dense)            (None, 5)                 645       \n",
            "                                                                 \n",
            "=================================================================\n",
            "Total params: 4,667,301\n",
            "Trainable params: 4,667,301\n",
            "Non-trainable params: 0\n",
            "_________________________________________________________________\n"
          ]
        }
      ]
    },
    {
      "cell_type": "code",
      "source": [
        "history_gru = model_gru.fit(x_train,\n",
        "                            y_train,\n",
        "                            epochs=5,\n",
        "                            batch_size=256,\n",
        "                            class_weight=class_weights,\n",
        "                            validation_split=0.2)"
      ],
      "metadata": {
        "id": "eNLbGp4h1sZs",
        "colab": {
          "base_uri": "https://localhost:8080/"
        },
        "outputId": "eca513c7-2e40-4bbe-ee97-8b7973f9d7e7"
      },
      "execution_count": null,
      "outputs": [
        {
          "output_type": "stream",
          "name": "stdout",
          "text": [
            "Epoch 1/5\n",
            "129/129 [==============================] - 33s 225ms/step - loss: 1.4220 - accuracy: 0.3234 - val_loss: 1.1575 - val_accuracy: 0.4829\n",
            "Epoch 2/5\n",
            "129/129 [==============================] - 31s 239ms/step - loss: 0.9232 - accuracy: 0.5969 - val_loss: 0.8878 - val_accuracy: 0.6461\n",
            "Epoch 3/5\n",
            "129/129 [==============================] - 29s 224ms/step - loss: 0.7387 - accuracy: 0.7022 - val_loss: 0.8663 - val_accuracy: 0.6616\n",
            "Epoch 4/5\n",
            "129/129 [==============================] - 33s 258ms/step - loss: 0.6348 - accuracy: 0.7515 - val_loss: 0.8638 - val_accuracy: 0.6774\n",
            "Epoch 5/5\n",
            "129/129 [==============================] - 29s 222ms/step - loss: 0.5668 - accuracy: 0.7836 - val_loss: 0.9320 - val_accuracy: 0.6497\n"
          ]
        }
      ]
    },
    {
      "cell_type": "code",
      "source": [
        "# plot GRU\n",
        "plt.plot(history_gru.history['accuracy'],\n",
        "         label='train')\n",
        "plt.plot(history_gru.history['val_accuracy'],\n",
        "         label='validation')\n",
        "plt.xlabel('epoch')\n",
        "plt.ylabel('correct answers')\n",
        "plt.legend()\n",
        "plt.show()"
      ],
      "metadata": {
        "id": "NMvnBo9k1uvU",
        "colab": {
          "base_uri": "https://localhost:8080/",
          "height": 281
        },
        "outputId": "0fec950b-54d0-4d91-c280-6c283342373b"
      },
      "execution_count": null,
      "outputs": [
        {
          "output_type": "display_data",
          "data": {
            "text/plain": [
              "<Figure size 432x288 with 1 Axes>"
            ],
            "image/png": "[encoded data removed]"
          },
          "metadata": {
            "needs_background": "light"
          }
        }
      ]
    },
    {
      "cell_type": "markdown",
      "source": [
        "Not the best results, but now I ran out all ideas.\n",
        "Now I am fully opened for advices:)"
      ],
      "metadata": {
        "id": "LECrgK-wmWoz"
      }
    },
    {
      "cell_type": "code",
      "source": [
        "pred_test = model_cnn.predict(x_test)"
      ],
      "metadata": {
        "id": "wrEOgun58zYf",
        "colab": {
          "base_uri": "https://localhost:8080/"
        },
        "outputId": "310dc476-2fd3-448f-98c6-e6d66455d238"
      },
      "execution_count": null,
      "outputs": [
        {
          "output_type": "stream",
          "name": "stdout",
          "text": [
            "119/119 [==============================] - 1s 5ms/step\n"
          ]
        }
      ]
    },
    {
      "cell_type": "code",
      "source": [
        "# make ohe matrix to get predictions\n",
        "index = np.argmax(pred_test, axis=1) # get index\n",
        "pred_matrix = np.zeros_like(pred_test) # 0 matrix\n",
        "\n",
        "pred_matrix[np.arange(len(index)), index.T] = 1 # fill 1 by index"
      ],
      "metadata": {
        "id": "XlnLAoTwNlXc"
      },
      "execution_count": null,
      "outputs": []
    },
    {
      "cell_type": "code",
      "source": [
        "ohe.inverse_transform(pred_matrix)"
      ],
      "metadata": {
        "colab": {
          "base_uri": "https://localhost:8080/"
        },
        "id": "QOm9jXATh4Py",
        "outputId": "42f978f4-bfa2-4951-ba4c-87ec93434b37"
      },
      "execution_count": null,
      "outputs": [
        {
          "output_type": "execute_result",
          "data": {
            "text/plain": [
              "array([['Negative'],\n",
              "       ['Extremely Positive'],\n",
              "       ['Extremely Positive'],\n",
              "       ...,\n",
              "       ['Neutral'],\n",
              "       ['Extremely Negative'],\n",
              "       ['Extremely Positive']], dtype=object)"
            ]
          },
          "metadata": {},
          "execution_count": 143
        }
      ]
    },
    {
      "cell_type": "code",
      "source": [
        "sample_submission['Sentiment'] = ohe.inverse_transform(pred_matrix)"
      ],
      "metadata": {
        "id": "qGF-t8Ts7t1B"
      },
      "execution_count": null,
      "outputs": []
    },
    {
      "cell_type": "code",
      "source": [
        "sample_submission.head()"
      ],
      "metadata": {
        "colab": {
          "base_uri": "https://localhost:8080/",
          "height": 206
        },
        "id": "ngbEuXo68Drk",
        "outputId": "3c50b568-e7e7-44a2-a5f1-672593f717ca"
      },
      "execution_count": null,
      "outputs": [
        {
          "output_type": "execute_result",
          "data": {
            "text/plain": [
              "                                     id           Sentiment\n",
              "0  787bc85b-20d4-46d8-84a0-562a2527f684            Negative\n",
              "1  17e934cd-ba94-4d4f-9ac0-ead202abe241  Extremely Positive\n",
              "2  5914534b-2b0f-4de8-bb8a-e25587697e0d  Extremely Positive\n",
              "3  cdf06cfe-29ae-48ee-ac6d-be448103ba45            Negative\n",
              "4  aff63979-0256-4fb9-a2d9-86a3d3ca5470             Neutral"
            ],
            "text/html": [
              "\n",
              "  <div id=\"df-6e7b4d20-143c-4e28-a954-862eaf145669\">\n",
              "    <div class=\"colab-df-container\">\n",
              "      <div>\n",
              "<style scoped>\n",
              "    .dataframe tbody tr th:only-of-type {\n",
              "        vertical-align: middle;\n",
              "    }\n",
              "\n",
              "    .dataframe tbody tr th {\n",
              "        vertical-align: top;\n",
              "    }\n",
              "\n",
              "    .dataframe thead th {\n",
              "        text-align: right;\n",
              "    }\n",
              "</style>\n",
              "<table border=\"1\" class=\"dataframe\">\n",
              "  <thead>\n",
              "    <tr style=\"text-align: right;\">\n",
              "      <th></th>\n",
              "      <th>id</th>\n",
              "      <th>Sentiment</th>\n",
              "    </tr>\n",
              "  </thead>\n",
              "  <tbody>\n",
              "    <tr>\n",
              "      <th>0</th>\n",
              "      <td>787bc85b-20d4-46d8-84a0-562a2527f684</td>\n",
              "      <td>Negative</td>\n",
              "    </tr>\n",
              "    <tr>\n",
              "      <th>1</th>\n",
              "      <td>17e934cd-ba94-4d4f-9ac0-ead202abe241</td>\n",
              "      <td>Extremely Positive</td>\n",
              "    </tr>\n",
              "    <tr>\n",
              "      <th>2</th>\n",
              "      <td>5914534b-2b0f-4de8-bb8a-e25587697e0d</td>\n",
              "      <td>Extremely Positive</td>\n",
              "    </tr>\n",
              "    <tr>\n",
              "      <th>3</th>\n",
              "      <td>cdf06cfe-29ae-48ee-ac6d-be448103ba45</td>\n",
              "      <td>Negative</td>\n",
              "    </tr>\n",
              "    <tr>\n",
              "      <th>4</th>\n",
              "      <td>aff63979-0256-4fb9-a2d9-86a3d3ca5470</td>\n",
              "      <td>Neutral</td>\n",
              "    </tr>\n",
              "  </tbody>\n",
              "</table>\n",
              "</div>\n",
              "      <button class=\"colab-df-convert\" onclick=\"convertToInteractive('df-6e7b4d20-143c-4e28-a954-862eaf145669')\"\n",
              "              title=\"Convert this dataframe to an interactive table.\"\n",
              "              style=\"display:none;\">\n",
              "        \n",
              "  <svg xmlns=\"http://www.w3.org/2000/svg\" height=\"24px\"viewBox=\"0 0 24 24\"\n",
              "       width=\"24px\">\n",
              "    <path d=\"M0 0h24v24H0V0z\" fill=\"none\"/>\n",
              "    <path d=\"M18.56 5.44l.94 2.06.94-2.06 2.06-.94-2.06-.94-.94-2.06-.94 2.06-2.06.94zm-11 1L8.5 8.5l.94-2.06 2.06-.94-2.06-.94L8.5 2.5l-.94 2.06-2.06.94zm10 10l.94 2.06.94-2.06 2.06-.94-2.06-.94-.94-2.06-.94 2.06-2.06.94z\"/><path d=\"M17.41 7.96l-1.37-1.37c-.4-.4-.92-.59-1.43-.59-.52 0-1.04.2-1.43.59L10.3 9.45l-7.72 7.72c-.78.78-.78 2.05 0 2.83L4 21.41c.39.39.9.59 1.41.59.51 0 1.02-.2 1.41-.59l7.78-7.78 2.81-2.81c.8-.78.8-2.07 0-2.86zM5.41 20L4 18.59l7.72-7.72 1.47 1.35L5.41 20z\"/>\n",
              "  </svg>\n",
              "      </button>\n",
              "      \n",
              "  <style>\n",
              "    .colab-df-container {\n",
              "      display:flex;\n",
              "      flex-wrap:wrap;\n",
              "      gap: 12px;\n",
              "    }\n",
              "\n",
              "    .colab-df-convert {\n",
              "      background-color: #E8F0FE;\n",
              "      border: none;\n",
              "      border-radius: 50%;\n",
              "      cursor: pointer;\n",
              "      display: none;\n",
              "      fill: #1967D2;\n",
              "      height: 32px;\n",
              "      padding: 0 0 0 0;\n",
              "      width: 32px;\n",
              "    }\n",
              "\n",
              "    .colab-df-convert:hover {\n",
              "      background-color: #E2EBFA;\n",
              "      box-shadow: 0px 1px 2px rgba(60, 64, 67, 0.3), 0px 1px 3px 1px rgba(60, 64, 67, 0.15);\n",
              "      fill: #174EA6;\n",
              "    }\n",
              "\n",
              "    [theme=dark] .colab-df-convert {\n",
              "      background-color: #3B4455;\n",
              "      fill: #D2E3FC;\n",
              "    }\n",
              "\n",
              "    [theme=dark] .colab-df-convert:hover {\n",
              "      background-color: #434B5C;\n",
              "      box-shadow: 0px 1px 3px 1px rgba(0, 0, 0, 0.15);\n",
              "      filter: drop-shadow(0px 1px 2px rgba(0, 0, 0, 0.3));\n",
              "      fill: #FFFFFF;\n",
              "    }\n",
              "  </style>\n",
              "\n",
              "      <script>\n",
              "        const buttonEl =\n",
              "          document.querySelector('#df-6e7b4d20-143c-4e28-a954-862eaf145669 button.colab-df-convert');\n",
              "        buttonEl.style.display =\n",
              "          google.colab.kernel.accessAllowed ? 'block' : 'none';\n",
              "\n",
              "        async function convertToInteractive(key) {\n",
              "          const element = document.querySelector('#df-6e7b4d20-143c-4e28-a954-862eaf145669');\n",
              "          const dataTable =\n",
              "            await google.colab.kernel.invokeFunction('convertToInteractive',\n",
              "                                                     [key], {});\n",
              "          if (!dataTable) return;\n",
              "\n",
              "          const docLinkHtml = 'Like what you see? Visit the ' +\n",
              "            '<a target=\"_blank\" href=https://colab.research.google.com/notebooks/data_table.ipynb>data table notebook</a>'\n",
              "            + ' to learn more about interactive tables.';\n",
              "          element.innerHTML = '';\n",
              "          dataTable['output_type'] = 'display_data';\n",
              "          await google.colab.output.renderOutput(dataTable, element);\n",
              "          const docLink = document.createElement('div');\n",
              "          docLink.innerHTML = docLinkHtml;\n",
              "          element.appendChild(docLink);\n",
              "        }\n",
              "      </script>\n",
              "    </div>\n",
              "  </div>\n",
              "  "
            ]
          },
          "metadata": {},
          "execution_count": 145
        }
      ]
    },
    {
      "cell_type": "code",
      "source": [
        "sample_submission.to_csv('submission.csv', index=False)"
      ],
      "metadata": {
        "id": "TitxQIWv8MNB"
      },
      "execution_count": null,
      "outputs": []
    },
    {
      "cell_type": "markdown",
      "source": [
        "# Want to try Elmo\n",
        "https://github.com/strongio/keras-elmo/blob/master/Elmo%20Keras.ipynb\n"
      ],
      "metadata": {
        "id": "jbnntB555dy_"
      }
    },
    {
      "cell_type": "code",
      "source": [],
      "metadata": {
        "id": "TTIDvHHmb7T1"
      },
      "execution_count": null,
      "outputs": []
    }
  ]
}